{
 "cells": [
  {
   "cell_type": "code",
   "execution_count": 2,
   "metadata": {},
   "outputs": [
    {
     "name": "stdout",
     "output_type": "stream",
     "text": [
      "Enter n: 5\n",
      "[[1 0 0 0 0]\n",
      " [0 2 0 0 0]\n",
      " [0 0 3 0 0]\n",
      " [0 0 0 4 0]\n",
      " [0 0 0 0 5]]\n"
     ]
    }
   ],
   "source": [
    "#task_1\n",
    "import numpy as np\n",
    "try:\n",
    "    n = int(input(\"Enter n: \"))\n",
    "    diag = np.arange(1,n+1,1)\n",
    "    print(np.diag(diag))\n",
    "except:\n",
    "    print(\"Error\")\n"
   ]
  },
  {
   "cell_type": "code",
   "execution_count": 5,
   "metadata": {},
   "outputs": [
    {
     "name": "stdout",
     "output_type": "stream",
     "text": [
      "5 5 2 2\n",
      "[[0 0 0 0 0]\n",
      " [0 1 0 1 0]\n",
      " [0 0 0 0 0]\n",
      " [0 1 0 1 0]\n",
      " [0 0 0 0 0]]\n"
     ]
    }
   ],
   "source": [
    "#task_3\n",
    "n,m,r,c = input().split()\n",
    "arr = np.ones((int(n), int(m)), dtype=int)\n",
    "arr[::int(r),::]=0\n",
    "arr[::,::int(c)]=0\n",
    "print(arr)"
   ]
  },
  {
   "cell_type": "code",
   "execution_count": 6,
   "metadata": {},
   "outputs": [
    {
     "name": "stdout",
     "output_type": "stream",
     "text": [
      "4 2 6 0 7 0 2 4 6 0\n",
      "[-1 -1 -1  0 -1  0 -1 -1 -1  0]\n"
     ]
    }
   ],
   "source": [
    "#task_6\n",
    "arr = np.array(input().split(), dtype =int)\n",
    "arr[arr!=0]=-1\n",
    "print(arr)"
   ]
  },
  {
   "cell_type": "code",
   "execution_count": 7,
   "metadata": {},
   "outputs": [
    {
     "name": "stdout",
     "output_type": "stream",
     "text": [
      "7 0 2 9 0 0 8\n",
      "[ 7 -1  2  9 -1 -1  8]\n"
     ]
    }
   ],
   "source": [
    "#task_7\n",
    "arr = np.array(input().split(), dtype =int)\n",
    "arr[arr==0]=-1\n",
    "print(arr)"
   ]
  },
  {
   "cell_type": "code",
   "execution_count": 8,
   "metadata": {},
   "outputs": [
    {
     "name": "stdout",
     "output_type": "stream",
     "text": [
      "7 8 0 1 4 0 6 0\n",
      "Zeros:  3\n",
      "Non-zeros:  5\n"
     ]
    }
   ],
   "source": [
    "#task_8\n",
    "arr = np.array(input().split(), dtype =int)\n",
    "print(\"Zeros: \", len(arr[arr==0]))\n",
    "print(\"Non-zeros: \", len(arr[arr!=0]))"
   ]
  },
  {
   "cell_type": "code",
   "execution_count": 18,
   "metadata": {},
   "outputs": [
    {
     "name": "stdout",
     "output_type": "stream",
     "text": [
      "[[0 1 0 1 0 1 0 1]\n",
      " [1 0 1 0 1 0 1 0]\n",
      " [0 1 0 1 0 1 0 1]\n",
      " [1 0 1 0 1 0 1 0]\n",
      " [0 1 0 1 0 1 0 1]\n",
      " [1 0 1 0 1 0 1 0]\n",
      " [0 1 0 1 0 1 0 1]\n",
      " [1 0 1 0 1 0 1 0]]\n"
     ]
    }
   ],
   "source": [
    "#task_14\n",
    "arr = np.array([[0,1,0,1,0,1,0,1],\n",
    "               [1,0,1,0,1,0,1,0]]*4)\n",
    "print(arr)"
   ]
  },
  {
   "cell_type": "code",
   "execution_count": 23,
   "metadata": {
    "scrolled": true
   },
   "outputs": [
    {
     "name": "stdout",
     "output_type": "stream",
     "text": [
      "6\n"
     ]
    },
    {
     "data": {
      "text/plain": [
       "array([[0, 1, 0, 1, 0, 1],\n",
       "       [0, 1, 0, 1, 0, 1],\n",
       "       [0, 1, 0, 1, 0, 1],\n",
       "       [0, 1, 0, 1, 0, 1],\n",
       "       [0, 1, 0, 1, 0, 1],\n",
       "       [0, 1, 0, 1, 0, 1]])"
      ]
     },
     "execution_count": 23,
     "metadata": {},
     "output_type": "execute_result"
    }
   ],
   "source": [
    "#task_16\n",
    "n = int(input())\n",
    "arr = np.zeros((n,n), dtype=int)\n",
    "arr[::,1::2]=1\n",
    "print(arr)"
   ]
  },
  {
   "cell_type": "code",
   "execution_count": 35,
   "metadata": {},
   "outputs": [
    {
     "name": "stdout",
     "output_type": "stream",
     "text": [
      "10\n"
     ]
    },
    {
     "data": {
      "text/plain": [
       "array([  0,  -1,  -2,  -3,  -4,   5,   6,   7,  -8,  -9, -10])"
      ]
     },
     "execution_count": 35,
     "metadata": {},
     "output_type": "execute_result"
    }
   ],
   "source": [
    "#task_18\n",
    "n=int(input())\n",
    "arr = np.arange(0,11,1)\n",
    "arr[arr<(n/2)]*=-1\n",
    "arr[arr>(3*n/4)]*=-1\n",
    "print(arr)"
   ]
  },
  {
   "cell_type": "code",
   "execution_count": 43,
   "metadata": {},
   "outputs": [
    {
     "name": "stdout",
     "output_type": "stream",
     "text": [
      "40\n",
      "In array:  [34 70 67 93 47 32 56  1 64 86 81 57 92 95 78 51  2 76 73 45 36 11 95 12\n",
      " 53 64 14 82 46 42 48 41 96 63 46 92 29 95 52 50]\n",
      "35  unique elements\n"
     ]
    }
   ],
   "source": [
    "#task_19\n",
    "n = int(input())\n",
    "arr = np.random.randint(0,99,n)\n",
    "print(\"In array: \",arr)\n",
    "s = set(arr)\n",
    "print(len(s),\" unique elements\")"
   ]
  },
  {
   "cell_type": "code",
   "execution_count": 50,
   "metadata": {},
   "outputs": [
    {
     "name": "stdout",
     "output_type": "stream",
     "text": [
      "Enter n m: 3 5\n",
      "initial matrix:\n",
      "  [[3 0 2]\n",
      " [3 3 0]\n",
      " [2 0 1]]\n",
      "Modified matrix\n",
      ":  [[-3  0  2]\n",
      " [-3 -3  0]\n",
      " [ 2  0  1]]\n"
     ]
    }
   ],
   "source": [
    "#task_22\n",
    "n, m = input(\"Enter n m: \").split()\n",
    "arr = np.random.randint(0, int(m),(int(n),int(n)))\n",
    "print(\"initial matrix:\\n \",arr)\n",
    "arr[arr == np.max(arr)] = np.max(arr)*-1\n",
    "print(\"Modified matrix\\n: \", arr)"
   ]
  },
  {
   "cell_type": "code",
   "execution_count": 86,
   "metadata": {},
   "outputs": [
    {
     "name": "stdout",
     "output_type": "stream",
     "text": [
      "[ 5  1  1 -5]\n",
      "[-2.  2. -3.  3.]\n",
      "X array:  [-2  2 -3  3]\n"
     ]
    }
   ],
   "source": [
    "#task_2\n",
    "coef_matrix = np.array([[1,2,3,4],\n",
    "                       [2,1,2,3],\n",
    "                       [3,2,1,2],\n",
    "                       [4,3,2,1]])\n",
    "det = np.linalg.det(coef_matrix)\n",
    "b_matrix= np.array([5,1,1,-5])\n",
    "coef_matrix_1 = coef_matrix.copy()\n",
    "coef_matrix_1[:, 0] =  b_matrix\n",
    "det_1 = np.linalg.det(coef_matrix_1)\n",
    "coef_matrix_1 = coef_matrix.copy()\n",
    "coef_matrix_1[:,1] = b_matrix\n",
    "det_2 = np.linalg.det(coef_matrix_1)\n",
    "coef_matrix_1 = coef_matrix.copy()\n",
    "coef_matrix_1[:,2] = b_matrix\n",
    "det_3 = np.linalg.det(coef_matrix_1)\n",
    "coef_matrix_1 = coef_matrix.copy()\n",
    "coef_matrix_1[:,3] = b_matrix\n",
    "det_4 = np.linalg.det(coef_matrix_1)\n",
    "x_matrix = np.array([round(det_1/det),round(det_2/det),round(det_3/det),round(det_4/det)])\n",
    "print(coef_matrix.dot(x_matrix))\n",
    "print(np.linalg.solve(coef_matrix, b_matrix))\n",
    "print(\"X array: \",x_matrix)\n"
   ]
  },
  {
   "cell_type": "code",
   "execution_count": 83,
   "metadata": {},
   "outputs": [
    {
     "data": {
      "text/plain": [
       "array([[  162,   -30,   600],\n",
       "       [-2678,   -30,     2],\n",
       "       [  -98,    -6,    10]])"
      ]
     },
     "execution_count": 83,
     "metadata": {},
     "output_type": "execute_result"
    }
   ],
   "source": [
    "#task_3\n",
    "A = np.array([[5,1,7],[-10,-2,1],[0,1,2]], dtype=int)\n",
    "B = np.array([[2,4,1],[3,1,0],[7,2,1]], dtype=int)\n",
    "2*(A-B)*(A**2+B)"
   ]
  },
  {
   "cell_type": "code",
   "execution_count": 85,
   "metadata": {},
   "outputs": [
    {
     "name": "stdout",
     "output_type": "stream",
     "text": [
      "X array:  [0. 0. 1.]\n",
      "[0. 0. 1.]\n",
      "[0. 2. 0.]\n"
     ]
    }
   ],
   "source": [
    "#task_4\n",
    "coef_matrix = np.array([[4,-2,0],\n",
    "                       [1,1,2],\n",
    "                       [3,-2,0]])\n",
    "b_matrix = np.array([0,2,0])\n",
    "b2_matrix = np.array([[0,2,0],\n",
    "                     [-2,4,-3],\n",
    "                     [6,3,4]])\n",
    "inverse_matrix = np.linalg.inv(coef_matrix)\n",
    "x_matrix = inverse_matrix.dot(b_matrix)\n",
    "print(\"X array: \",x_matrix)\n",
    "print(np.linalg.solve(coef_matrix,b_matrix))\n",
    "print(coef_matrix.dot(x_matrix))"
   ]
  },
  {
   "cell_type": "code",
   "execution_count": null,
   "metadata": {},
   "outputs": [],
   "source": []
  }
 ],
 "metadata": {
  "kernelspec": {
   "display_name": "Python 3",
   "language": "python",
   "name": "python3"
  },
  "language_info": {
   "codemirror_mode": {
    "name": "ipython",
    "version": 3
   },
   "file_extension": ".py",
   "mimetype": "text/x-python",
   "name": "python",
   "nbconvert_exporter": "python",
   "pygments_lexer": "ipython3",
   "version": "3.8.5"
  }
 },
 "nbformat": 4,
 "nbformat_minor": 4
}
