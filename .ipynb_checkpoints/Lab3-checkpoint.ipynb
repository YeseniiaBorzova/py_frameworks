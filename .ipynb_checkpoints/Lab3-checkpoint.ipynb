{
 "cells": [
  {
   "cell_type": "code",
   "execution_count": 1,
   "metadata": {},
   "outputs": [
    {
     "name": "stdout",
     "output_type": "stream",
     "text": [
      "     con: array([], dtype=float64)\n",
      "     fun: 637.5\n",
      " message: 'Optimization terminated successfully.'\n",
      "     nit: 3\n",
      "   slack: array([125.,   0.])\n",
      "  status: 0\n",
      " success: True\n",
      "       x: array([35.41666667,  0.        ])\n",
      "Time:  0.3932631015777588\n"
     ]
    }
   ],
   "source": [
    "from scipy.optimize import linprog\n",
    "import time\n",
    "\n",
    "start = time.time()\n",
    "c = [18, 13]\n",
    "a = [[-12, -25], [-24, -13]]\n",
    "b = [-300, -850]\n",
    "x1_bounds = (0, None)\n",
    "x2_bounds = (0, None)\n",
    "res = linprog(c, A_ub = a, b_ub = b, bounds = [x1_bounds, x2_bounds], method = \"revised simplex\")\n",
    "print(res)\n",
    "stop = time.time()\n",
    "print(\"Time: \",stop-start)"
   ]
  },
  {
   "cell_type": "code",
   "execution_count": 6,
   "metadata": {},
   "outputs": [
    {
     "name": "stdout",
     "output_type": "stream",
     "text": [
      "[[1 1 1 1 1 0 0 0 0 0 0 0 0 0 0 0 0 0 0 0]\n",
      " [0 0 0 0 0 1 1 1 1 1 0 0 0 0 0 0 0 0 0 0]\n",
      " [0 0 0 0 0 0 0 0 0 0 1 1 1 1 1 0 0 0 0 0]\n",
      " [0 0 0 0 0 0 0 0 0 0 0 0 0 0 0 1 1 1 1 1]\n",
      " [1 0 0 0 0 1 0 0 0 0 1 0 0 0 0 1 0 0 0 0]\n",
      " [0 1 0 0 0 0 1 0 0 0 0 1 0 0 0 0 1 0 0 0]\n",
      " [0 0 1 0 0 0 0 1 0 0 0 0 1 0 0 0 0 1 0 0]\n",
      " [0 0 0 1 0 0 0 0 1 0 0 0 0 1 0 0 0 0 1 0]\n",
      " [0 0 0 0 1 0 0 0 0 1 0 0 0 0 1 0 0 0 0 1]]\n",
      "[[ 0.  0. 70.  0. 15.]\n",
      " [90.  0.  0. 20.  0.]\n",
      " [ 0.  0.  0. 40. 25.]\n",
      " [ 0. 70.  0.  0. 10.]]\n",
      "     con: array([6.82062762e-09, 8.95191477e-09, 5.11542453e-09, 6.39418829e-09,\n",
      "       7.33210470e-09, 5.62694424e-09, 5.62691582e-09, 4.77437823e-09,\n",
      "       3.92182642e-09])\n",
      "     fun: 1680.00000025076\n",
      " message: 'Optimization terminated successfully.'\n",
      "     nit: 7\n",
      "   slack: array([], dtype=float64)\n",
      "  status: 0\n",
      " success: True\n",
      "       x: array([4.91846833e-09, 1.24569314e-08, 7.00000000e+01, 7.24157086e-09,\n",
      "       1.50000000e+01, 9.00000000e+01, 1.72792899e-09, 1.27044763e-08,\n",
      "       2.00000000e+01, 7.46464714e-09, 5.23687912e-09, 4.39005953e-09,\n",
      "       1.36972939e-08, 3.99999999e+01, 2.50000001e+01, 5.42232443e-09,\n",
      "       7.00000000e+01, 1.47491629e-10, 1.07841158e-07, 9.99999990e+00])\n",
      "Time:  0.01192927360534668\n"
     ]
    },
    {
     "name": "stderr",
     "output_type": "stream",
     "text": [
      "<ipython-input-6-79f59704393b>:22: OptimizeWarning: A_eq does not appear to be of full row rank. To improve performance, check the problem formulation for redundant equality constraints.\n",
      "  res = linprog(coefs,A_eq=A, b_eq=b, bounds=boundaries)\n"
     ]
    }
   ],
   "source": [
    "import numpy as np\n",
    "from scipy.optimize import linprog\n",
    "import time\n",
    "\n",
    "start = time.time()\n",
    "coefs = [10, 8, 7, 12, 9, 4, 6, 5, 3, 14, 15, 10, 6, 5, 7, 11, 3, 6, 4, 5]\n",
    "zero_matrx = np.zeros(180, dtype=int)\n",
    "zeros = zero_matrx.reshape(9, 20)\n",
    "zeros[0, 0:5] = 1\n",
    "zeros[1, 5:10] = 1\n",
    "zeros[2, 10:15] = 1\n",
    "zeros[3, 15:20] = 1\n",
    "zeros[4, 0::5] = 1\n",
    "zeros[5, 1::5] = 1\n",
    "zeros[6, 2::5] = 1\n",
    "zeros[7, 3::5] = 1\n",
    "zeros[8, 4::5] = 1\n",
    "print(zeros)\n",
    "A = zeros\n",
    "b = [85, 110, 65, 80, 90, 70, 70, 60, 50]\n",
    "boundaries = [(0, int(1000))]*20\n",
    "res = linprog(coefs,A_eq=A, b_eq=b, bounds=boundaries)\n",
    "print(res.x.reshape(4,5).round())\n",
    "print(res)\n",
    "stop = time.time()\n",
    "print(\"Time: \",stop-start)"
   ]
  },
  {
   "cell_type": "code",
   "execution_count": 12,
   "metadata": {},
   "outputs": [
    {
     "name": "stdout",
     "output_type": "stream",
     "text": [
      "[0 1 2 3] [2 0 3 1]\n"
     ]
    },
    {
     "data": {
      "text/plain": [
       "19"
      ]
     },
     "execution_count": 12,
     "metadata": {},
     "output_type": "execute_result"
    }
   ],
   "source": [
    "import numpy as np\n",
    "from scipy.optimize import linear_sum_assignment\n",
    "cost = np.array([[10,8,7,12,9],\n",
    "                [4,6,5,3,14],\n",
    "                [15,10,6,5,7],\n",
    "                [11,3,6,4,5]])\n",
    "\n",
    "cost2 = np.array([[10,4,15,11],\n",
    "                  [8,6,10,3],\n",
    "                  [7,5,6,6],\n",
    "                  [12,3,5,4],\n",
    "                  [9,14,7,5]])\n",
    "\n",
    "row_ind, col_ind = linear_sum_assignment(cost)\n",
    "print(row_ind, col_ind)\n",
    "cost[row_ind, col_ind].sum()\n",
    "\n",
    "# row_ind, col_ind = linear_sum_assignment(cost2)\n",
    "# print(col_ind,row_ind)\n",
    "# cost[row_ind, col_ind].sum() 7 4 5 3\n"
   ]
  },
  {
   "cell_type": "code",
   "execution_count": 6,
   "metadata": {},
   "outputs": [
    {
     "name": "stdout",
     "output_type": "stream",
     "text": [
      "19\n"
     ]
    }
   ],
   "source": [
    "from scipy.optimize import linear_sum_assignment\n",
    "\n",
    "costs=[[10,8,7,12,9],\n",
    "      [4,6,5,3,14],\n",
    "      [15,10,6,5,7],\n",
    "      [11,3,6,4,5]]\n",
    "costs1=np.array(costs)\n",
    "rids, cids = linear_sum_assignment(costs1)\n",
    "print(costs1[rids, cids].sum())"
   ]
  },
  {
   "cell_type": "code",
   "execution_count": null,
   "metadata": {},
   "outputs": [],
   "source": []
  }
 ],
 "metadata": {
  "kernelspec": {
   "display_name": "Python 3",
   "language": "python",
   "name": "python3"
  },
  "language_info": {
   "codemirror_mode": {
    "name": "ipython",
    "version": 3
   },
   "file_extension": ".py",
   "mimetype": "text/x-python",
   "name": "python",
   "nbconvert_exporter": "python",
   "pygments_lexer": "ipython3",
   "version": "3.8.5"
  }
 },
 "nbformat": 4,
 "nbformat_minor": 4
}
