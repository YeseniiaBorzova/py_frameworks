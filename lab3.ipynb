{
 "cells": [
  {
   "cell_type": "code",
   "execution_count": 27,
   "metadata": {},
   "outputs": [
    {
     "name": "stdout",
     "output_type": "stream",
     "text": [
      "Problem:\n",
      "MINIMIZE\n",
      "18*x1 + 13*x2 + 0\n",
      "SUBJECT TO\n",
      "_C1: 12 x1 + 25 x2 >= 300\n",
      "\n",
      "_C2: 24 x1 + 13 x2 >= 850\n",
      "\n",
      "VARIABLES\n",
      "x1 Continuous\n",
      "x2 Continuous\n",
      "\n",
      "Optimal\n",
      "x1 =  35.4167 , x2 =  0.0 , L =  637.5006\n",
      "Time:  0.021942853927612305\n",
      "[35.4167, 0.0, 637.5006]\n"
     ]
    }
   ],
   "source": [
    "import pulp as p \n",
    "import time\n",
    "\n",
    "start = time.time() \n",
    "# Create a LP Minimization problem \n",
    "Lp_prob = p.LpProblem('Problem', p.LpMinimize)  \n",
    "  \n",
    "# Create problem Variables  \n",
    "x1 = p.LpVariable(\"x1\", lowBound = 0)   # Create a variable x >= 0 \n",
    "x2 = p.LpVariable(\"x2\", lowBound = 0)   # Create a variable y >= 0 \n",
    "  \n",
    "# Objective Function \n",
    "Lp_prob += 18 * x1 + 13 * x2    \n",
    "  \n",
    "# Constraints: \n",
    "Lp_prob += 12 * x1 + 25 * x2 >= 300\n",
    "Lp_prob += 24 * x1 + 13 * x2 >= 850\n",
    "  \n",
    "# Display the problem \n",
    "print(Lp_prob) \n",
    "  \n",
    "status = Lp_prob.solve()   # Solver \n",
    "print(p.LpStatus[status])   # The solution status \n",
    "  \n",
    "# Printing the final solution \n",
    "print(\"x1 = \",p.value(x1),\", x2 = \", p.value(x2),\", L = \", p.value(Lp_prob.objective)) \n",
    "stop = time.time()\n",
    "res2 =[p.value(x1),p.value(x2), p.value(Lp_prob.objective)]\n",
    "print(\"Time: \",stop-start)\n",
    "print(res2)"
   ]
  },
  {
   "cell_type": "code",
   "execution_count": 39,
   "metadata": {},
   "outputs": [
    {
     "name": "stdout",
     "output_type": "stream",
     "text": [
      "     con: array([], dtype=float64)\n",
      "     fun: 637.5\n",
      " message: 'Optimization terminated successfully.'\n",
      "     nit: 3\n",
      "   slack: array([125.,   0.])\n",
      "  status: 0\n",
      " success: True\n",
      "       x: array([35.41666667,  0.        ])\n",
      "Time:  0.002993345260620117\n"
     ]
    }
   ],
   "source": [
    "from scipy.optimize import linprog\n",
    "import numpy as np\n",
    "import time\n",
    "\n",
    "start = time.time()\n",
    "c = [18, 13]\n",
    "a = [[-12, -25], [-24, -13]]\n",
    "b = [-300, -850]\n",
    "x1_bounds = (0, None)\n",
    "x2_bounds = (0, None)\n",
    "res = linprog(c, A_ub = a, b_ub = b, bounds = [x1_bounds, x2_bounds], method = \"revised simplex\")\n",
    "print(res)\n",
    "stop = time.time()\n",
    "print(\"Time: \",stop-start)\n",
    "res1= res.x.round(4)\n",
    "l_value= res.fun.round(4)\n",
    "res1 = np.append(res1,l_value)"
   ]
  },
  {
   "cell_type": "code",
   "execution_count": 42,
   "metadata": {},
   "outputs": [
    {
     "name": "stdout",
     "output_type": "stream",
     "text": [
      "Allclose check: \n",
      "True\n"
     ]
    }
   ],
   "source": [
    "import numpy as  np\n",
    "print(\"Allclose check: \")\n",
    "print(np.allclose(np.array(res1),np.array(res2)))\n"
   ]
  },
  {
   "cell_type": "code",
   "execution_count": 24,
   "metadata": {},
   "outputs": [
    {
     "data": {
      "text/plain": [
       "''"
      ]
     },
     "execution_count": 24,
     "metadata": {},
     "output_type": "execute_result"
    },
    {
     "data": {
      "image/png": "[encoded data removed]",
      "text/plain": [
       "<Figure size 432x288 with 1 Axes>"
      ]
     },
     "metadata": {
      "needs_background": "light"
     },
     "output_type": "display_data"
    }
   ],
   "source": [
    "import numpy as np\n",
    "import matplotlib.pyplot as plt\n",
    "%matplotlib inline\n",
    "\n",
    "x = np.linspace(-20,200,5000)\n",
    "y1 = (300 - 12*x)/25.0\n",
    "y2 = (850 - 24*x)/13.0\n",
    "L = (637.5-18*x)/13.0\n",
    " \n",
    "plt.plot(x, y1, label = r'$12y+25x\\geq300$')\n",
    "plt.plot(x, y2, label = r'$24y+13x\\geq850$')\n",
    "plt.plot(x, L, label = r'$18y+13x = 635.7$')\n",
    "plt.xlim(0,100)\n",
    "plt.ylim(0,100)\n",
    "plt.xlabel(r'$x$')\n",
    "plt.ylabel(r'$y$')\n",
    "plt.legend(bbox_to_anchor=(1.05, 1), loc=2, borderaxespad=0.)\n",
    "plt.plot(35.4167, 0,'ro') \n",
    "plt.annotate(\"Min point\", (35.4167, 0))\n",
    "plt.annotate(\"Feasible area\", (60,70))\n",
    "plt.fill_between(x,y2,100, color='grey', alpha=0.5)\n",
    ";"
   ]
  },
  {
   "cell_type": "code",
   "execution_count": 43,
   "metadata": {},
   "outputs": [
    {
     "name": "stdout",
     "output_type": "stream",
     "text": [
      "[[1 1 1 1 1 0 0 0 0 0 0 0 0 0 0 0 0 0 0 0]\n",
      " [0 0 0 0 0 1 1 1 1 1 0 0 0 0 0 0 0 0 0 0]\n",
      " [0 0 0 0 0 0 0 0 0 0 1 1 1 1 1 0 0 0 0 0]\n",
      " [0 0 0 0 0 0 0 0 0 0 0 0 0 0 0 1 1 1 1 1]\n",
      " [1 0 0 0 0 1 0 0 0 0 1 0 0 0 0 1 0 0 0 0]\n",
      " [0 1 0 0 0 0 1 0 0 0 0 1 0 0 0 0 1 0 0 0]\n",
      " [0 0 1 0 0 0 0 1 0 0 0 0 1 0 0 0 0 1 0 0]\n",
      " [0 0 0 1 0 0 0 0 1 0 0 0 0 1 0 0 0 0 1 0]\n",
      " [0 0 0 0 1 0 0 0 0 1 0 0 0 0 1 0 0 0 0 1]]\n",
      "[[ 0.  0. 70.  0. 15.]\n",
      " [90.  0.  0. 20.  0.]\n",
      " [ 0.  0.  0. 40. 25.]\n",
      " [ 0. 70.  0.  0. 10.]]\n",
      "     con: array([6.82062762e-09, 8.95191477e-09, 5.11542453e-09, 6.39418829e-09,\n",
      "       7.33210470e-09, 5.62694424e-09, 5.62691582e-09, 4.77437823e-09,\n",
      "       3.92182642e-09])\n",
      "     fun: 1680.00000025076\n",
      " message: 'Optimization terminated successfully.'\n",
      "     nit: 7\n",
      "   slack: array([], dtype=float64)\n",
      "  status: 0\n",
      " success: True\n",
      "       x: array([4.91846833e-09, 1.24569314e-08, 7.00000000e+01, 7.24157086e-09,\n",
      "       1.50000000e+01, 9.00000000e+01, 1.72792899e-09, 1.27044763e-08,\n",
      "       2.00000000e+01, 7.46464714e-09, 5.23687912e-09, 4.39005953e-09,\n",
      "       1.36972939e-08, 3.99999999e+01, 2.50000001e+01, 5.42232443e-09,\n",
      "       7.00000000e+01, 1.47491629e-10, 1.07841158e-07, 9.99999990e+00])\n"
     ]
    },
    {
     "name": "stderr",
     "output_type": "stream",
     "text": [
      "<ipython-input-43-686b2c414ca7>:22: OptimizeWarning: A_eq does not appear to be of full row rank. To improve performance, check the problem formulation for redundant equality constraints.\n",
      "  res = linprog(coefs,A_eq=A, b_eq=b, bounds=boundaries)\n"
     ]
    }
   ],
   "source": [
    "import numpy as np\n",
    "from scipy.optimize import linprog\n",
    "import time\n",
    "\n",
    "start = time.time()\n",
    "coefs = [10, 8, 7, 12, 9, 4, 6, 5, 3, 14, 15, 10, 6, 5, 7, 11, 3, 6, 4, 5]\n",
    "zero_matrx = np.zeros(180, dtype=int)\n",
    "zeros = zero_matrx.reshape(9, 20)\n",
    "zeros[0, 0:5] = 1\n",
    "zeros[1, 5:10] = 1\n",
    "zeros[2, 10:15] = 1\n",
    "zeros[3, 15:20] = 1\n",
    "zeros[4, 0::5] = 1\n",
    "zeros[5, 1::5] = 1\n",
    "zeros[6, 2::5] = 1\n",
    "zeros[7, 3::5] = 1\n",
    "zeros[8, 4::5] = 1\n",
    "print(zeros)\n",
    "A = zeros\n",
    "b = [85, 110, 65, 80, 90, 70, 70, 60, 50]\n",
    "boundaries = [(0, int(1000))]*20\n",
    "res = linprog(coefs,A_eq=A, b_eq=b, bounds=boundaries)\n",
    "print(res.x.reshape(4,5).round())\n",
    "print(res)\n",
    "stop = time.time()"
   ]
  },
  {
   "cell_type": "code",
   "execution_count": null,
   "metadata": {},
   "outputs": [],
   "source": []
  }
 ],
 "metadata": {
  "kernelspec": {
   "display_name": "Python 3",
   "language": "python",
   "name": "python3"
  },
  "language_info": {
   "codemirror_mode": {
    "name": "ipython",
    "version": 3
   },
   "file_extension": ".py",
   "mimetype": "text/x-python",
   "name": "python",
   "nbconvert_exporter": "python",
   "pygments_lexer": "ipython3",
   "version": "3.8.3"
  }
 },
 "nbformat": 4,
 "nbformat_minor": 4
}
